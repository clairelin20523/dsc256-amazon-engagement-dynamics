{
 "cells": [
  {
   "cell_type": "code",
   "execution_count": 168,
   "id": "0554df9e-aca8-4af3-b4fc-f97f9d4eaf3e",
   "metadata": {
    "id": "0554df9e-aca8-4af3-b4fc-f97f9d4eaf3e"
   },
   "outputs": [],
   "source": [
    "import json\n",
    "import gzip\n",
    "import math\n",
    "import string\n",
    "import random\n",
    "import statistics\n",
    "import numpy as np\n",
    "import pandas as pd\n",
    "from collections import defaultdict, Counter\n",
    "import warnings\n",
    "warnings.filterwarnings(\"ignore\")\n",
    "\n",
    "import matplotlib.pyplot as plt\n",
    "import seaborn as sns\n",
    "sns.set_style('whitegrid')\n",
    "\n",
    "from sklearn import metrics\n",
    "from sklearn import linear_model\n",
    "from sklearn import linear_model, metrics\n",
    "from sklearn.model_selection import train_test_split\n",
    "from sklearn.feature_extraction.text import TfidfVectorizer\n",
    "\n",
    "from nltk.corpus import stopwords\n",
    "from nltk.sentiment import SentimentIntensityAnalyzer"
   ]
  },
  {
   "cell_type": "code",
   "execution_count": 2,
   "id": "7bba4776-87c8-4ca0-b875-86bad19c0311",
   "metadata": {
    "id": "7bba4776-87c8-4ca0-b875-86bad19c0311"
   },
   "outputs": [],
   "source": [
    "def assertFloat(x):\n",
    "    assert type(float(x)) == float\n",
    "\n",
    "def assertFloatList(items, N):\n",
    "    assert len(items) == N\n",
    "    assert [type(float(x)) for x in items] == [float]*N"
   ]
  },
  {
   "cell_type": "markdown",
   "id": "8e5c9105-779a-4b9d-a2d6-780fad7b3129",
   "metadata": {
    "id": "8e5c9105-779a-4b9d-a2d6-780fad7b3129"
   },
   "source": [
    "# Load Data"
   ]
  },
  {
   "cell_type": "code",
   "execution_count": 4,
   "id": "324f7ccc-1ed7-4374-abd1-d2510cbc743a",
   "metadata": {
    "id": "324f7ccc-1ed7-4374-abd1-d2510cbc743a"
   },
   "outputs": [],
   "source": [
    "#z = gzip.open(\"qa_Electronics.json.gz\")"
   ]
  },
  {
   "cell_type": "code",
   "execution_count": 5,
   "id": "845c7a54-29ec-430b-bb5c-f64287c714cd",
   "metadata": {
    "id": "845c7a54-29ec-430b-bb5c-f64287c714cd"
   },
   "outputs": [],
   "source": [
    "#dataset = []\n",
    "#for l in z:\n",
    "#    d = eval(l)\n",
    "#    dataset.append(d)"
   ]
  },
  {
   "cell_type": "code",
   "execution_count": 6,
   "id": "15302f49-3461-4e32-96f1-09877ade8720",
   "metadata": {
    "id": "15302f49-3461-4e32-96f1-09877ade8720"
   },
   "outputs": [],
   "source": [
    "'''data = []\n",
    "for entry in dataset:\n",
    "    for question in entry['questions']:\n",
    "        data.append({\n",
    "            'asin': entry['asin'],\n",
    "            'questionText': question['questionText'],\n",
    "            'numAnswers': len(question['answers'])\n",
    "        })\n",
    "'''\n",
    "def parse(path):\n",
    "    g = gzip.open(path, 'rb')\n",
    "    for l in g:\n",
    "        yield eval(l)\n",
    "\n",
    "def getDF(path):\n",
    "    i = 0\n",
    "    df = {}\n",
    "    for d in parse(path):\n",
    "        df[i] = d\n",
    "        i += 1\n",
    "    return pd.DataFrame.from_dict(df, orient='index')\n",
    "\n",
    "data = getDF('QA_Electronics.json.gz')"
   ]
  },
  {
   "cell_type": "code",
   "execution_count": 7,
   "id": "49f0e541-8e01-4506-b558-552517d28d3e",
   "metadata": {
    "colab": {
     "base_uri": "https://localhost:8080/",
     "height": 80
    },
    "id": "49f0e541-8e01-4506-b558-552517d28d3e",
    "outputId": "bb1cb13c-b84f-4a98-a7e5-84c94e32c407"
   },
   "outputs": [
    {
     "data": {
      "text/html": [
       "<div>\n",
       "<style scoped>\n",
       "    .dataframe tbody tr th:only-of-type {\n",
       "        vertical-align: middle;\n",
       "    }\n",
       "\n",
       "    .dataframe tbody tr th {\n",
       "        vertical-align: top;\n",
       "    }\n",
       "\n",
       "    .dataframe thead th {\n",
       "        text-align: right;\n",
       "    }\n",
       "</style>\n",
       "<table border=\"1\" class=\"dataframe\">\n",
       "  <thead>\n",
       "    <tr style=\"text-align: right;\">\n",
       "      <th></th>\n",
       "      <th>asin</th>\n",
       "      <th>questions</th>\n",
       "    </tr>\n",
       "  </thead>\n",
       "  <tbody>\n",
       "    <tr>\n",
       "      <th>0</th>\n",
       "      <td>1400599997</td>\n",
       "      <td>[{'questionType': 'yes/no', 'askerID': 'A1KP1T...</td>\n",
       "    </tr>\n",
       "  </tbody>\n",
       "</table>\n",
       "</div>"
      ],
      "text/plain": [
       "         asin                                          questions\n",
       "0  1400599997  [{'questionType': 'yes/no', 'askerID': 'A1KP1T..."
      ]
     },
     "execution_count": 7,
     "metadata": {},
     "output_type": "execute_result"
    }
   ],
   "source": [
    "#data[0]\n",
    "data.head(1)"
   ]
  },
  {
   "cell_type": "code",
   "execution_count": 8,
   "id": "esOFfMqEdgnV",
   "metadata": {
    "colab": {
     "base_uri": "https://localhost:8080/"
    },
    "id": "esOFfMqEdgnV",
    "outputId": "352c1e26-01a3-481c-99f2-513b2fd8dd6a"
   },
   "outputs": [
    {
     "name": "stdout",
     "output_type": "stream",
     "text": [
      "         asin question_type        question_text        asker_id  \\\n",
      "0  1400599997        yes/no  is it user friendly  A1KP1TT2M38V8P   \n",
      "1  1400599997        yes/no  is it user friendly  A1KP1TT2M38V8P   \n",
      "2  1400599997        yes/no  is it user friendly  A1KP1TT2M38V8P   \n",
      "3  1400599997        yes/no  is it user friendly  A1KP1TT2M38V8P   \n",
      "4  1400599997        yes/no  is it user friendly  A1KP1TT2M38V8P   \n",
      "5  1400599997        yes/no  is it user friendly  A1KP1TT2M38V8P   \n",
      "\n",
      "   question_time                                        answer_text  \\\n",
      "0  June 27, 2013            Very much. Both my 9&4yr old csn use it   \n",
      "1  June 27, 2013  I have the nook 1st edition and it is very use...   \n",
      "2  June 27, 2013  It is pretty user friendly/ self explanatory. ...   \n",
      "3  June 27, 2013  Yes, it's pretty simply and standard functiona...   \n",
      "4  June 27, 2013  I like the nook. I'm a reading fanatic and I'v...   \n",
      "5  June 27, 2013  I bought it as a gift so I don't know about th...   \n",
      "\n",
      "      answerer_id    answer_time  helpful_upvotes  helpful_total answer_type  \\\n",
      "0  A28W8V7C7O7JBQ  June 27, 2013                2              2           ?   \n",
      "1   AD68GQI10OGMN  June 27, 2013                1              1           ?   \n",
      "2   ASSP19ONFPUCV  June 27, 2013                1              1           ?   \n",
      "3  A3VMASE46T3AGS  June 27, 2013                1              1           Y   \n",
      "4  A1CMNRK2DT00NK  July 25, 2013                1              1           ?   \n",
      "5  A35EHT3XW238CS  June 27, 2013                0              0           ?   \n",
      "\n",
      "  answer_score  numAnswers  \n",
      "0       0.9189           6  \n",
      "1       0.6162           6  \n",
      "2       0.7004           6  \n",
      "3       0.9930           6  \n",
      "4       0.6279           6  \n",
      "5       0.6349           6  \n"
     ]
    }
   ],
   "source": [
    "import pandas as pd\n",
    "\n",
    "\n",
    "flattened_data = []\n",
    "\n",
    "for index, row in data.iterrows():\n",
    "    asin = row['asin']\n",
    "    questions = row['questions']\n",
    "\n",
    "    for question in questions:\n",
    "        question_type = question.get('questionType', None)\n",
    "        question_text = question.get('questionText', None)\n",
    "        asker_id = question.get('askerID', None)\n",
    "        question_time = question.get('questionTime', None)\n",
    "        answers = question.get('answers', [])\n",
    "\n",
    "        for answer in answers:\n",
    "            answer_text = answer.get('answerText', None)\n",
    "            answerer_id = answer.get('answererID', None)\n",
    "            answer_time = answer.get('answerTime', None)\n",
    "            helpful = answer.get('helpful', [0, 0])\n",
    "            answer_type = answer.get('answerType', None)\n",
    "            answer_score = answer.get('answerScore', None)\n",
    "\n",
    "            flattened_data.append({\n",
    "                'asin': asin,\n",
    "                'question_type': question_type,\n",
    "                'question_text': question_text,\n",
    "                'asker_id': asker_id,\n",
    "                'question_time': question_time,\n",
    "                'answer_text': answer_text,\n",
    "                'answerer_id': answerer_id,\n",
    "                'answer_time': answer_time,\n",
    "                'helpful_upvotes': helpful[0],\n",
    "                'helpful_total': helpful[1],\n",
    "                'answer_type': answer_type,\n",
    "                'answer_score': answer_score,\n",
    "            })\n",
    "\n",
    "data_updated = pd.DataFrame(flattened_data)\n",
    "data_updated['numAnswers'] = data_updated.groupby('question_text')['answer_text'].transform('count')\n",
    "\n",
    "\n",
    "#print(data_updated.head())\n",
    "print(data_updated[data_updated['question_text']=='is it user friendly'])"
   ]
  },
  {
   "cell_type": "code",
   "execution_count": 101,
   "id": "UchY7vxp2s5g",
   "metadata": {
    "colab": {
     "base_uri": "https://localhost:8080/",
     "height": 458
    },
    "id": "UchY7vxp2s5g",
    "outputId": "daea0443-757b-4bbc-9e35-01890cf5652a"
   },
   "outputs": [],
   "source": [
    "data_updated['question_time']\n",
    "data_updated['question_text'] = data_updated['question_text'].str.lower()"
   ]
  },
  {
   "cell_type": "code",
   "execution_count": 107,
   "id": "96bb74b1-8c33-4e20-a748-4e0e78e2a136",
   "metadata": {},
   "outputs": [],
   "source": [
    "data_updated = pd.DataFrame(flattened_data)\n",
    "data_updated['question_text'] = data_updated['question_text'].str.lower()\n",
    "data_updated['numAnswers'] = data_updated.groupby('question_text')['answer_text'].transform('count')"
   ]
  },
  {
   "cell_type": "code",
   "execution_count": 109,
   "id": "4e88adcf-2b56-410b-ac2a-9a0e6e7e01ed",
   "metadata": {
    "colab": {
     "base_uri": "https://localhost:8080/"
    },
    "id": "4e88adcf-2b56-410b-ac2a-9a0e6e7e01ed",
    "outputId": "340cf80f-1035-4d00-8774-46f516ecaef1"
   },
   "outputs": [
    {
     "name": "stdout",
     "output_type": "stream",
     "text": [
      "1: 1670\n",
      "2: 61909\n",
      "3: 50768\n",
      "4: 37329\n",
      "5: 23469\n",
      "6: 15100\n",
      "7: 8093\n",
      "8: 5073\n",
      "9: 2862\n",
      "10: 4289\n",
      "11: 230\n",
      "12: 612\n",
      "13: 163\n",
      "14: 229\n",
      "15: 215\n",
      "16: 216\n",
      "17: 74\n",
      "18: 174\n",
      "19: 56\n",
      "20: 250\n",
      "21: 77\n",
      "22: 36\n",
      "23: 27\n",
      "24: 87\n",
      "25: 45\n",
      "26: 22\n",
      "27: 34\n",
      "28: 38\n",
      "29: 12\n",
      "30: 79\n",
      "31: 7\n",
      "32: 33\n",
      "33: 10\n",
      "34: 13\n",
      "35: 24\n",
      "36: 20\n",
      "37: 3\n",
      "38: 6\n",
      "39: 12\n",
      "40: 46\n",
      "41: 8\n",
      "42: 19\n",
      "43: 3\n",
      "44: 7\n",
      "45: 9\n",
      "46: 8\n",
      "47: 4\n",
      "48: 9\n",
      "49: 6\n",
      "50: 12\n",
      "51: 2\n",
      "52: 4\n",
      "53: 1\n",
      "54: 4\n",
      "55: 3\n",
      "56: 7\n",
      "57: 3\n",
      "58: 1\n",
      "59: 2\n",
      "60: 14\n",
      "61: 1\n",
      "62: 4\n",
      "63: 2\n",
      "64: 2\n",
      "65: 2\n",
      "66: 4\n",
      "67: 2\n",
      "68: 2\n",
      "69: 1\n",
      "70: 3\n",
      "71: 2\n",
      "72: 4\n",
      "73: 1\n",
      "74: 2\n",
      "76: 2\n",
      "77: 2\n",
      "78: 1\n",
      "79: 1\n",
      "80: 4\n",
      "81: 2\n",
      "82: 3\n",
      "84: 4\n",
      "85: 1\n",
      "86: 2\n",
      "87: 1\n",
      "89: 1\n",
      "91: 3\n",
      "93: 1\n",
      "96: 2\n",
      "97: 2\n",
      "98: 1\n",
      "100: 1\n",
      "102: 2\n",
      "104: 1\n",
      "108: 1\n",
      "110: 1\n",
      "114: 1\n",
      "118: 2\n",
      "120: 3\n",
      "126: 4\n",
      "127: 2\n",
      "129: 1\n",
      "133: 1\n",
      "135: 1\n",
      "137: 1\n",
      "140: 2\n",
      "143: 1\n",
      "144: 2\n",
      "150: 1\n",
      "152: 1\n",
      "183: 1\n",
      "185: 1\n",
      "194: 1\n",
      "258: 1\n",
      "260: 1\n",
      "276: 1\n",
      "747: 1\n"
     ]
    }
   ],
   "source": [
    "temp = data_updated.drop_duplicates(subset=['question_text'],inplace=False)\n",
    "\n",
    "value_counts = temp['numAnswers'].value_counts()\n",
    "\n",
    "for num, count in sorted(value_counts.items()):\n",
    "    print(f'{num}: {count}')"
   ]
  },
  {
   "cell_type": "code",
   "execution_count": 111,
   "id": "jScbhGxW7O4q",
   "metadata": {
    "colab": {
     "base_uri": "https://localhost:8080/"
    },
    "id": "jScbhGxW7O4q",
    "outputId": "966f37e0-e902-42ed-c272-0777bc45cd1a"
   },
   "outputs": [
    {
     "data": {
      "text/plain": [
       "213639"
      ]
     },
     "execution_count": 111,
     "metadata": {},
     "output_type": "execute_result"
    }
   ],
   "source": [
    "sum(value_counts)"
   ]
  },
  {
   "cell_type": "markdown",
   "id": "0766dcec-6e81-4866-b63d-df5073583d1a",
   "metadata": {},
   "source": [
    "# Get Top 5"
   ]
  },
  {
   "cell_type": "code",
   "execution_count": 114,
   "id": "86d86312-2f93-4804-9a0d-626709014549",
   "metadata": {},
   "outputs": [
    {
     "data": {
      "text/html": [
       "<div>\n",
       "<style scoped>\n",
       "    .dataframe tbody tr th:only-of-type {\n",
       "        vertical-align: middle;\n",
       "    }\n",
       "\n",
       "    .dataframe tbody tr th {\n",
       "        vertical-align: top;\n",
       "    }\n",
       "\n",
       "    .dataframe thead th {\n",
       "        text-align: right;\n",
       "    }\n",
       "</style>\n",
       "<table border=\"1\" class=\"dataframe\">\n",
       "  <thead>\n",
       "    <tr style=\"text-align: right;\">\n",
       "      <th></th>\n",
       "      <th>question_text</th>\n",
       "      <th>answer_text</th>\n",
       "      <th>numAnswers</th>\n",
       "    </tr>\n",
       "  </thead>\n",
       "  <tbody>\n",
       "    <tr>\n",
       "      <th>2563</th>\n",
       "      <td>how long is the cord?</td>\n",
       "      <td>Apromx. 11 ft.</td>\n",
       "      <td>747</td>\n",
       "    </tr>\n",
       "    <tr>\n",
       "      <th>11565</th>\n",
       "      <td>how long is the cable?</td>\n",
       "      <td>It's about 6 feet long... I also bought the ex...</td>\n",
       "      <td>276</td>\n",
       "    </tr>\n",
       "    <tr>\n",
       "      <th>21992</th>\n",
       "      <td>does it have bluetooth?</td>\n",
       "      <td>yes.</td>\n",
       "      <td>260</td>\n",
       "    </tr>\n",
       "    <tr>\n",
       "      <th>16714</th>\n",
       "      <td>what are the dimensions?</td>\n",
       "      <td>14.75 x 6.75 x 1</td>\n",
       "      <td>258</td>\n",
       "    </tr>\n",
       "    <tr>\n",
       "      <th>12443</th>\n",
       "      <td>is it waterproof?</td>\n",
       "      <td>Its waterproof as far as being made for the tr...</td>\n",
       "      <td>194</td>\n",
       "    </tr>\n",
       "  </tbody>\n",
       "</table>\n",
       "</div>"
      ],
      "text/plain": [
       "                  question_text  \\\n",
       "2563      how long is the cord?   \n",
       "11565    how long is the cable?   \n",
       "21992   does it have bluetooth?   \n",
       "16714  what are the dimensions?   \n",
       "12443         is it waterproof?   \n",
       "\n",
       "                                             answer_text  numAnswers  \n",
       "2563                                      Apromx. 11 ft.         747  \n",
       "11565  It's about 6 feet long... I also bought the ex...         276  \n",
       "21992                                               yes.         260  \n",
       "16714                                   14.75 x 6.75 x 1         258  \n",
       "12443  Its waterproof as far as being made for the tr...         194  "
      ]
     },
     "execution_count": 114,
     "metadata": {},
     "output_type": "execute_result"
    }
   ],
   "source": [
    "top5 = temp.nlargest(5, 'numAnswers')[['question_text', 'answer_text', 'numAnswers']]\n",
    "top5"
   ]
  },
  {
   "cell_type": "markdown",
   "id": "631a8b17-e34c-4b2c-979c-c53390beba2a",
   "metadata": {
    "id": "631a8b17-e34c-4b2c-979c-c53390beba2a"
   },
   "source": [
    "# Look At Answer Counts"
   ]
  },
  {
   "cell_type": "code",
   "execution_count": 117,
   "id": "402fa63e-b1d7-410b-ab64-4dd0f5c5d250",
   "metadata": {
    "colab": {
     "base_uri": "https://localhost:8080/",
     "height": 569
    },
    "id": "402fa63e-b1d7-410b-ab64-4dd0f5c5d250",
    "outputId": "1897c060-fb6a-47a4-e036-8202e5b09563"
   },
   "outputs": [
    {
     "data": {
      "image/png": "[encoded data removed]",
      "text/plain": [
       "<Figure size 1000x600 with 1 Axes>"
      ]
     },
     "metadata": {},
     "output_type": "display_data"
    }
   ],
   "source": [
    "'''plt.hist(numAnswers, bins = 10)\n",
    "plt.title('Histogram of Answer counts', size = 15, fontweight = 'bold')\n",
    "plt.show()\n",
    "'''\n",
    "a=[]\n",
    "for num, count in sorted(value_counts.items()):\n",
    "    a.append(num)\n",
    "\n",
    "plt.figure(figsize=(10, 6))\n",
    "plt.hist(a, bins=20, edgecolor='black', color='skyblue')\n",
    "plt.xlabel('# Answers', fontsize=12)\n",
    "plt.ylabel('# Questions', fontsize=12)\n",
    "plt.title('Histogram of Number of Answers per Question', fontsize=14)\n",
    "plt.grid(axis='y', linestyle='--', alpha=0.7)\n",
    "plt.show()\n"
   ]
  },
  {
   "cell_type": "code",
   "execution_count": 118,
   "id": "4d59717b-dad1-4b0a-9b8c-444a6a43c2fa",
   "metadata": {
    "colab": {
     "base_uri": "https://localhost:8080/",
     "height": 87
    },
    "id": "4d59717b-dad1-4b0a-9b8c-444a6a43c2fa",
    "outputId": "3cd335e3-c9f3-42e9-f3c2-28206390f656"
   },
   "outputs": [
    {
     "data": {
      "text/plain": [
       "'\\nsia = SentimentIntensityAnalyzer()\\n\\ndef feat(datum):\\n    \"\"\"Extract features: bias term and sentiment polarity score.\"\"\"\\n    return [1, sia.polarity_scores(datum[\\'question\\'])[\\'compound\\']]\\n\\n\\nX = df.apply(feat, axis=1).tolist()\\ny = df[\\'numAnswers\\'].tolist()\\n\\nX_train, X_test, y_train, y_test = train_test_split(X, y, test_size=0.2, random_state=42)\\n\\n\\nmod1 = LinearRegression()\\nmod1.fit(X_train, y_train)\\npred1 = mod1.predict(X_test)\\n\\nmse1 = metrics.mean_squared_error(y_test, pred1)\\nprint(f\"MSE: {mse1}\")\\n'"
      ]
     },
     "execution_count": 118,
     "metadata": {},
     "output_type": "execute_result"
    }
   ],
   "source": [
    "#n = len(data)\n",
    "#n_train = int(n * 0.8)\n",
    "\n",
    "'''\n",
    "sia = SentimentIntensityAnalyzer()\n",
    "\n",
    "def feat(datum):\n",
    "    \"\"\"Extract features: bias term and sentiment polarity score.\"\"\"\n",
    "    return [1, sia.polarity_scores(datum['question'])['compound']]\n",
    "\n",
    "\n",
    "X = df.apply(feat, axis=1).tolist()\n",
    "y = df['numAnswers'].tolist()\n",
    "\n",
    "X_train, X_test, y_train, y_test = train_test_split(X, y, test_size=0.2, random_state=42)\n",
    "\n",
    "\n",
    "mod1 = LinearRegression()\n",
    "mod1.fit(X_train, y_train)\n",
    "pred1 = mod1.predict(X_test)\n",
    "\n",
    "mse1 = metrics.mean_squared_error(y_test, pred1)\n",
    "print(f\"MSE: {mse1}\")\n",
    "'''"
   ]
  },
  {
   "cell_type": "markdown",
   "id": "783bc58d-1d47-4a51-9d41-fdd554e49b2a",
   "metadata": {
    "tags": []
   },
   "source": [
    "# Baseline: Question Length"
   ]
  },
  {
   "cell_type": "code",
   "execution_count": 122,
   "id": "e9e90fb1-4540-4b3b-a72b-ca666d539be9",
   "metadata": {},
   "outputs": [],
   "source": [
    "def MSE(y, ypred):\n",
    "    return metrics.mean_squared_error(y, ypred)\n",
    "\n",
    "def feat(datum):\n",
    "    return [1, len(datum['question_text'])]"
   ]
  },
  {
   "cell_type": "code",
   "execution_count": 124,
   "id": "3f74b261-fe67-42a0-a52b-c8f771421a2c",
   "metadata": {},
   "outputs": [],
   "source": [
    "X = temp.apply(feat, axis=1).tolist()\n",
    "y = temp['numAnswers'].tolist()"
   ]
  },
  {
   "cell_type": "code",
   "execution_count": 125,
   "id": "599c1ac2-4b19-46fd-a8a0-fc9d265f4677",
   "metadata": {},
   "outputs": [],
   "source": [
    "X_train, X_test, y_train, y_test = train_test_split(X, y, test_size=0.2, random_state = 10)"
   ]
  },
  {
   "cell_type": "code",
   "execution_count": 126,
   "id": "8c4366c2-1f6c-4ab4-82d7-1c11cb60a3f3",
   "metadata": {},
   "outputs": [],
   "source": [
    "mod = linear_model.LinearRegression(fit_intercept = False)\n",
    "mod.fit(X_train, y_train)\n",
    "pred = mod.predict(X_test)"
   ]
  },
  {
   "cell_type": "code",
   "execution_count": 127,
   "id": "64c7222b-fad8-43e3-830f-aa5e1b610cf4",
   "metadata": {},
   "outputs": [
    {
     "data": {
      "text/plain": [
       "14.468939657279837"
      ]
     },
     "execution_count": 127,
     "metadata": {},
     "output_type": "execute_result"
    }
   ],
   "source": [
    "mse = MSE(y_test, pred)\n",
    "mse"
   ]
  },
  {
   "cell_type": "markdown",
   "id": "9d47aece-0aa0-461a-aa14-48f143c2c3bd",
   "metadata": {
    "tags": []
   },
   "source": [
    "# Random Model"
   ]
  },
  {
   "cell_type": "code",
   "execution_count": 129,
   "id": "4ddec7ae-669d-49e1-b1ad-187bc8702356",
   "metadata": {},
   "outputs": [
    {
     "data": {
      "text/plain": [
       "183308.5917789191"
      ]
     },
     "execution_count": 129,
     "metadata": {},
     "output_type": "execute_result"
    }
   ],
   "source": [
    "min_val, max_val = min(y_train), max(y_train)\n",
    "random_pred = np.random.uniform(min_val, max_val, len(y_test))\n",
    "baseline_mse = MSE(y_test, random_pred)\n",
    "baseline_mse"
   ]
  },
  {
   "cell_type": "markdown",
   "id": "c658fb15-b586-4879-9741-be364d911da1",
   "metadata": {
    "id": "c658fb15-b586-4879-9741-be364d911da1",
    "tags": []
   },
   "source": [
    "# Fit Sentiment"
   ]
  },
  {
   "cell_type": "code",
   "execution_count": 134,
   "id": "E7Voc1V4xc42",
   "metadata": {
    "colab": {
     "base_uri": "https://localhost:8080/"
    },
    "id": "E7Voc1V4xc42",
    "outputId": "96d30fb6-125f-4710-cc1f-6b737d61a8ec"
   },
   "outputs": [
    {
     "name": "stderr",
     "output_type": "stream",
     "text": [
      "[nltk_data] Downloading package vader_lexicon to\n",
      "[nltk_data]     /Users/totototoro/nltk_data...\n",
      "[nltk_data]   Package vader_lexicon is already up-to-date!\n"
     ]
    },
    {
     "data": {
      "text/plain": [
       "True"
      ]
     },
     "execution_count": 134,
     "metadata": {},
     "output_type": "execute_result"
    }
   ],
   "source": [
    "import nltk\n",
    "nltk.download('vader_lexicon')"
   ]
  },
  {
   "cell_type": "code",
   "execution_count": 137,
   "id": "995a58e1-cb4d-4e5a-a5ed-3f4b5c67be3e",
   "metadata": {
    "id": "995a58e1-cb4d-4e5a-a5ed-3f4b5c67be3e"
   },
   "outputs": [],
   "source": [
    "sia = SentimentIntensityAnalyzer()\n",
    "\n",
    "def feat1(datum):\n",
    "    feature = feat(datum)\n",
    "    return feature + [sia.polarity_scores(datum['question_text'])['compound']]"
   ]
  },
  {
   "cell_type": "code",
   "execution_count": 140,
   "id": "1de277a2-8e42-4ef1-85fe-efb928725d85",
   "metadata": {
    "id": "1de277a2-8e42-4ef1-85fe-efb928725d85"
   },
   "outputs": [],
   "source": [
    "#X1 = [feat(d) for d in data]\n",
    "#y = [d['numAnswers'] for d in data]\n",
    "X1 = temp.apply(feat1, axis=1).tolist()"
   ]
  },
  {
   "cell_type": "code",
   "execution_count": 141,
   "id": "e1925af1-656d-44d2-891a-bbb87c7f125b",
   "metadata": {
    "id": "e1925af1-656d-44d2-891a-bbb87c7f125b"
   },
   "outputs": [],
   "source": [
    "X1_train, X1_test, y_train, y_test = train_test_split(X1, y,test_size = 0.2, random_state = 10)"
   ]
  },
  {
   "cell_type": "code",
   "execution_count": 142,
   "id": "ddf31ce7-31cd-4649-80fa-3c90ca72f08c",
   "metadata": {
    "id": "ddf31ce7-31cd-4649-80fa-3c90ca72f08c"
   },
   "outputs": [],
   "source": [
    "mod1 = linear_model.LinearRegression(fit_intercept = False)\n",
    "mod1.fit(X1_train, y_train)\n",
    "pred1 = mod1.predict(X1_test)"
   ]
  },
  {
   "cell_type": "code",
   "execution_count": 143,
   "id": "c6d47f09-123d-4696-b470-c0368a3fb431",
   "metadata": {
    "colab": {
     "base_uri": "https://localhost:8080/"
    },
    "id": "c6d47f09-123d-4696-b470-c0368a3fb431",
    "outputId": "fb856ee4-a28d-409b-8d6b-14ab1f504e77"
   },
   "outputs": [
    {
     "data": {
      "text/plain": [
       "14.468509481211926"
      ]
     },
     "execution_count": 143,
     "metadata": {},
     "output_type": "execute_result"
    }
   ],
   "source": [
    "mse1 = MSE(y_test, pred1)\n",
    "mse1"
   ]
  },
  {
   "cell_type": "markdown",
   "id": "f6380a40-6b91-4d9a-8a40-4c1159d454ce",
   "metadata": {},
   "source": [
    "# Data Transformation"
   ]
  },
  {
   "cell_type": "code",
   "execution_count": 145,
   "id": "11bd741c-9bd8-4bc9-9947-b3e6386bdc57",
   "metadata": {},
   "outputs": [
    {
     "name": "stdout",
     "output_type": "stream",
     "text": [
      "15.034597992010955\n",
      "14.510844471568618\n",
      "14.488484067931365\n"
     ]
    }
   ],
   "source": [
    "X1_log = [[np.log(x) if x > 0 else 0 for x in row] for row in X1] \n",
    "X1_log1p = [[np.log1p(x) if x > 0 else 0 for x in row] for row in X1] \n",
    "X1_2 = [[x ** 2 for x in row] for row in X1]\n",
    "\n",
    "X1_log_train, X1_log_test = train_test_split(X1_log, test_size=0.2, random_state = 10)\n",
    "X1_log1p_train, X1_log1p_test = train_test_split(X1_log1p, test_size=0.2, random_state = 10)\n",
    "X1_2_train, X1_2_test = train_test_split(X1_2, test_size=0.2, random_state = 10)\n",
    "\n",
    "mod1_log = linear_model.LinearRegression(fit_intercept=False)\n",
    "mod1_log1p = linear_model.LinearRegression(fit_intercept=False)\n",
    "mod1_squared = linear_model.LinearRegression(fit_intercept=False)\n",
    "\n",
    "mod1_log.fit(X1_log_train, y_train)\n",
    "mod1_log1p.fit(X1_log1p_train, y_train)\n",
    "mod1_squared.fit(X1_2_train, y_train)\n",
    "\n",
    "pred1_log = mod1_log.predict(X1_log_test)\n",
    "pred1_log1p = mod1_log1p.predict(X1_log1p_test)\n",
    "pred1_2 = mod1_squared.predict(X1_2_test)\n",
    "\n",
    "mse1_log = MSE(y_test, pred1_log)\n",
    "mse1_log1p = MSE(y_test, pred1_log1p)\n",
    "mse1_2 = MSE(y_test, pred1_2)\n",
    "\n",
    "print(mse1_log)\n",
    "print(mse1_log1p)\n",
    "print(mse1_2)"
   ]
  },
  {
   "cell_type": "markdown",
   "id": "21746eba-d5c1-4edd-8063-17005fd4353a",
   "metadata": {},
   "source": [
    "# Hyperparameter Tuning w/ LogisticRegression"
   ]
  },
  {
   "cell_type": "markdown",
   "id": "98b0af5e-6c29-4d02-b166-20f1d5476415",
   "metadata": {},
   "source": [
    "C = [0.001, 0.01, 0.1, 1, 10, 100]\n",
    "\n",
    "best_mse = float('inf')\n",
    "best_c = None\n",
    "\n",
    "for c in C:\n",
    "    mod_tune1 = linear_model.LogisticRegression(fit_intercept = False)\n",
    "    mod_tune1.fit(X1_train, y_train)\n",
    "    pred_tune1 = mod_tune1.predict(X1_test)\n",
    "    mse_tune1 = MSE(y_test, pred_tune1)\n",
    "    if mse_tune1 < best_mse:\n",
    "        best_mse = mse_tune1\n",
    "        best_c = c"
   ]
  },
  {
   "cell_type": "markdown",
   "id": "988ebbf0-9e34-4912-bc55-e2a7da66e255",
   "metadata": {},
   "source": [
    "print('mse: %s, c = %s' % (best_mse, best_c))"
   ]
  },
  {
   "cell_type": "markdown",
   "id": "4ee19736-5cd7-4b70-b3fd-03c65819f338",
   "metadata": {
    "id": "4ee19736-5cd7-4b70-b3fd-03c65819f338"
   },
   "source": [
    "# Fit TFIDF"
   ]
  },
  {
   "cell_type": "code",
   "execution_count": 150,
   "id": "03f55025-ab6b-4925-af05-96632e81ca48",
   "metadata": {
    "id": "03f55025-ab6b-4925-af05-96632e81ca48"
   },
   "outputs": [],
   "source": [
    "questionText1 = temp['question_text'].tolist()#[d['questionText'] for d in data]\n",
    "vectorizer1 = TfidfVectorizer()\n",
    "X2 = vectorizer1.fit_transform(questionText1)"
   ]
  },
  {
   "cell_type": "code",
   "execution_count": 151,
   "id": "442024ee-442d-4490-993d-c8bdd01fd79d",
   "metadata": {
    "id": "442024ee-442d-4490-993d-c8bdd01fd79d"
   },
   "outputs": [
    {
     "name": "stdout",
     "output_type": "stream",
     "text": [
      "(213639, 60998)\n"
     ]
    }
   ],
   "source": [
    "##X2 = np.hstack([np.ones((X2.shape[0], 1)), X2])\n",
    "\n",
    "from scipy.sparse import csr_matrix, hstack\n",
    "\n",
    "ones_column_sparse = csr_matrix(np.ones((X2.shape[0], 1)))\n",
    "X2_with_ones_sparse = hstack([ones_column_sparse, X2])\n",
    "print(X2_with_ones_sparse.shape)"
   ]
  },
  {
   "cell_type": "code",
   "execution_count": 152,
   "id": "d71c079c-8a43-4713-9bc9-0625a882cdae",
   "metadata": {
    "id": "d71c079c-8a43-4713-9bc9-0625a882cdae"
   },
   "outputs": [],
   "source": [
    "X2train, X2test, ytrain, ytest = train_test_split(X2_with_ones_sparse, y, random_state = 10)"
   ]
  },
  {
   "cell_type": "code",
   "execution_count": 153,
   "id": "034c15c4-8c4d-412d-beb2-e1809ca96ca9",
   "metadata": {
    "id": "034c15c4-8c4d-412d-beb2-e1809ca96ca9"
   },
   "outputs": [],
   "source": [
    "mod2 = linear_model.LinearRegression(fit_intercept = False)\n",
    "mod2.fit(X2train, ytrain)\n",
    "pred2 = mod2.predict(X2test)"
   ]
  },
  {
   "cell_type": "code",
   "execution_count": 154,
   "id": "f0f6d5da-8dac-4efc-8f19-5cc4e630e7c7",
   "metadata": {
    "id": "f0f6d5da-8dac-4efc-8f19-5cc4e630e7c7"
   },
   "outputs": [
    {
     "data": {
      "text/plain": [
       "20.024472425154265"
      ]
     },
     "execution_count": 154,
     "metadata": {},
     "output_type": "execute_result"
    }
   ],
   "source": [
    "mse2 = MSE(ytest, pred2)\n",
    "mse2"
   ]
  },
  {
   "cell_type": "markdown",
   "id": "c70c7842-caa1-4d03-8067-df09a1f3ddbb",
   "metadata": {
    "id": "c70c7842-caa1-4d03-8067-df09a1f3ddbb"
   },
   "source": [
    "# TFIDF + Remove Punctuation"
   ]
  },
  {
   "cell_type": "code",
   "execution_count": 156,
   "id": "dc750bd0-3256-4419-8ca4-954f12dab168",
   "metadata": {
    "id": "dc750bd0-3256-4419-8ca4-954f12dab168"
   },
   "outputs": [],
   "source": [
    "punct = set(string.punctuation)\n",
    "\n",
    "def preprocess_text(text):\n",
    "    return ''.join([c for c in text.lower() if c not in punct])"
   ]
  },
  {
   "cell_type": "code",
   "execution_count": 157,
   "id": "f1291a3c-7bbe-46b4-ae5c-70d6942e4480",
   "metadata": {
    "id": "f1291a3c-7bbe-46b4-ae5c-70d6942e4480"
   },
   "outputs": [],
   "source": [
    "questionText2 = temp['question_text'].tolist() #[preprocess_text(d['questionText']) for d in data]\n",
    "\n",
    "vectorizer2 = TfidfVectorizer()\n",
    "X3 = vectorizer2.fit_transform(questionText2)#.toarray()"
   ]
  },
  {
   "cell_type": "code",
   "execution_count": 158,
   "id": "b988b0b4-6d27-4aff-b898-2dcd67641337",
   "metadata": {
    "id": "b988b0b4-6d27-4aff-b898-2dcd67641337"
   },
   "outputs": [
    {
     "name": "stdout",
     "output_type": "stream",
     "text": [
      "(213639, 60998)\n"
     ]
    }
   ],
   "source": [
    "from scipy.sparse import csr_matrix, hstack\n",
    "\n",
    "ones_column_sparse = csr_matrix(np.ones((X3.shape[0], 1)))\n",
    "X3_with_ones_sparse = hstack([ones_column_sparse, X3])\n",
    "print(X3_with_ones_sparse.shape)\n",
    "#X3 = np.hstack([np.ones((X3.shape[0], 1)), X3])"
   ]
  },
  {
   "cell_type": "code",
   "execution_count": 159,
   "id": "586c7310-d6f0-4e04-9852-2a98a0da8910",
   "metadata": {
    "id": "586c7310-d6f0-4e04-9852-2a98a0da8910"
   },
   "outputs": [],
   "source": [
    "X3train, X3test, ytrain, ytest = train_test_split(X3_with_ones_sparse, y, random_state = 10)"
   ]
  },
  {
   "cell_type": "code",
   "execution_count": 160,
   "id": "5902eff4-bd01-45e8-9625-8f8a0f7db334",
   "metadata": {
    "id": "5902eff4-bd01-45e8-9625-8f8a0f7db334"
   },
   "outputs": [],
   "source": [
    "mod3 = linear_model.LinearRegression(fit_intercept = False)\n",
    "mod3.fit(X3train, ytrain)\n",
    "pred3 = mod3.predict(X3test)"
   ]
  },
  {
   "cell_type": "code",
   "execution_count": 161,
   "id": "4a9b53ee-b3c3-4842-8c1b-f372b728aab9",
   "metadata": {
    "id": "4a9b53ee-b3c3-4842-8c1b-f372b728aab9"
   },
   "outputs": [
    {
     "data": {
      "text/plain": [
       "20.024472425154265"
      ]
     },
     "execution_count": 161,
     "metadata": {},
     "output_type": "execute_result"
    }
   ],
   "source": [
    "mse3 = MSE(ytest, pred3)\n",
    "mse3"
   ]
  },
  {
   "cell_type": "markdown",
   "id": "7bbadf06-5e85-4baf-8f3f-e4261bd5c17f",
   "metadata": {
    "id": "edbaad29-c07f-48c3-92e2-b13b9c930bd5"
   },
   "source": [
    "# TFIDF + Remove Punctuation + Remove stopwords"
   ]
  },
  {
   "cell_type": "code",
   "execution_count": 170,
   "id": "96ef42f2-ecf8-4f6f-992c-2ffb49c53546",
   "metadata": {},
   "outputs": [],
   "source": [
    "stopwords = set(stopwords.words('english'))\n",
    "\n",
    "def preprocess_text(text):\n",
    "    ws = ''.join([c for c in text.lower() if c not in punct]).split()\n",
    "    return ' '.join([w for w in ws if w not in stopwords])"
   ]
  },
  {
   "cell_type": "code",
   "execution_count": 172,
   "id": "55194a7e-dc48-4809-8a58-1ce56da5765e",
   "metadata": {},
   "outputs": [],
   "source": [
    "questionText3 = temp['question_text'].tolist() #[preprocess_text(d['questionText']) for d in data]\n",
    "\n",
    "vectorizer3 = TfidfVectorizer()\n",
    "X4 = vectorizer3.fit_transform(questionText3)#.toarray()"
   ]
  },
  {
   "cell_type": "code",
   "execution_count": 173,
   "id": "79cbcfaa-2c54-472a-ab0b-5f5b261c4460",
   "metadata": {},
   "outputs": [
    {
     "name": "stdout",
     "output_type": "stream",
     "text": [
      "(213639, 60998)\n"
     ]
    }
   ],
   "source": [
    "ones_column_sparse = csr_matrix(np.ones((X4.shape[0], 1)))\n",
    "X4_with_ones_sparse = hstack([ones_column_sparse, X4])\n",
    "print(X4_with_ones_sparse.shape)"
   ]
  },
  {
   "cell_type": "code",
   "execution_count": 174,
   "id": "e6d4f4f5-802f-4389-9c7b-21b4e96e01c4",
   "metadata": {},
   "outputs": [],
   "source": [
    "X4train, X4test, ytrain, ytest = train_test_split(X4_with_ones_sparse, y, random_state = 10)"
   ]
  },
  {
   "cell_type": "code",
   "execution_count": 175,
   "id": "ed59b63d-155d-41d7-aa16-e64c183c8e1b",
   "metadata": {},
   "outputs": [],
   "source": [
    "mod4 = linear_model.LinearRegression(fit_intercept = False)\n",
    "mod4.fit(X4train, ytrain)\n",
    "pred4 = mod4.predict(X4test)"
   ]
  },
  {
   "cell_type": "code",
   "execution_count": 176,
   "id": "abfc6efc-6472-48e7-ac40-a6ea3c2dc25d",
   "metadata": {},
   "outputs": [
    {
     "data": {
      "text/plain": [
       "20.024472425154265"
      ]
     },
     "execution_count": 176,
     "metadata": {},
     "output_type": "execute_result"
    }
   ],
   "source": [
    "mse4 = MSE(ytest, pred4)\n",
    "mse4"
   ]
  },
  {
   "cell_type": "code",
   "execution_count": null,
   "id": "d9407607-fbcf-45f3-9500-807e2b06d690",
   "metadata": {},
   "outputs": [],
   "source": []
  },
  {
   "cell_type": "code",
   "execution_count": null,
   "id": "60eedba8-b13c-4d02-9860-dbfb28a099f8",
   "metadata": {},
   "outputs": [],
   "source": []
  }
 ],
 "metadata": {
  "colab": {
   "provenance": []
  },
  "kernelspec": {
   "display_name": "Python 3 (ipykernel)",
   "language": "python",
   "name": "python3"
  },
  "language_info": {
   "codemirror_mode": {
    "name": "ipython",
    "version": 3
   },
   "file_extension": ".py",
   "mimetype": "text/x-python",
   "name": "python",
   "nbconvert_exporter": "python",
   "pygments_lexer": "ipython3",
   "version": "3.9.13"
  }
 },
 "nbformat": 4,
 "nbformat_minor": 5
}
